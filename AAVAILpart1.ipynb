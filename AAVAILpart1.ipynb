{
 "cells": [
  {
   "cell_type": "markdown",
   "metadata": {},
   "source": [
    "# AAVAIL Capstone Project - Data Analysis\n",
    "\n",
    "This notebook is for the part 1 of the AI Workflow Capstone project."
   ]
  },
  {
   "cell_type": "code",
   "execution_count": 1,
   "metadata": {},
   "outputs": [],
   "source": [
    "# prepare environment and import needed functions and libs\n",
    "import os\n",
    "import pandas as pd\n",
    "import numpy as np\n",
    "import matplotlib.pyplot as plt"
   ]
  },
  {
   "cell_type": "code",
   "execution_count": 2,
   "metadata": {},
   "outputs": [
    {
     "data": {
      "text/plain": [
       "['country',\n",
       " 'customer_id',\n",
       " 'day',\n",
       " 'invoice',\n",
       " 'month',\n",
       " 'price',\n",
       " 'stream_id',\n",
       " 'times_viewed',\n",
       " 'year']"
      ]
     },
     "execution_count": 2,
     "metadata": {},
     "output_type": "execute_result"
    }
   ],
   "source": [
    "TRAINING = True\n",
    "\n",
    "if TRAINING:\n",
    "    data_dir = os.path.join(\"..\", \"capstone-w\",\"cs-train\")\n",
    "else:\n",
    "    data_dir = os.path.join(\"..\", \"capstone-w\",\"cs-production\")\n",
    "# list training and production data files\n",
    "sorted(os.listdir(data_dir))\n",
    "# correct list of column names\n",
    "correct_cols = sorted(['country', 'customer_id', 'invoice', 'price', 'stream_id', \n",
    "                'times_viewed', 'year', 'month', 'day'])\n",
    "correct_cols"
   ]
  },
  {
   "cell_type": "code",
   "execution_count": 3,
   "metadata": {},
   "outputs": [
    {
     "name": "stdout",
     "output_type": "stream",
     "text": [
      "..\\capstone-w\\cs-train\\invoices-2017-11.json\n",
      "..\\capstone-w\\cs-train\\invoices-2017-12.json\n",
      "..\\capstone-w\\cs-train\\invoices-2018-01.json\n",
      "..\\capstone-w\\cs-train\\invoices-2018-02.json\n",
      "..\\capstone-w\\cs-train\\invoices-2018-03.json\n",
      "..\\capstone-w\\cs-train\\invoices-2018-04.json\n",
      "..\\capstone-w\\cs-train\\invoices-2018-05.json\n",
      "..\\capstone-w\\cs-train\\invoices-2018-06.json\n",
      "..\\capstone-w\\cs-train\\invoices-2018-07.json\n",
      "..\\capstone-w\\cs-train\\invoices-2018-08.json\n",
      "..\\capstone-w\\cs-train\\invoices-2018-09.json\n",
      "..\\capstone-w\\cs-train\\invoices-2018-10.json\n",
      "..\\capstone-w\\cs-train\\invoices-2018-11.json\n",
      "..\\capstone-w\\cs-train\\invoices-2018-12.json\n",
      "..\\capstone-w\\cs-train\\invoices-2019-01.json\n",
      "..\\capstone-w\\cs-train\\invoices-2019-02.json\n",
      "..\\capstone-w\\cs-train\\invoices-2019-03.json\n",
      "..\\capstone-w\\cs-train\\invoices-2019-04.json\n",
      "..\\capstone-w\\cs-train\\invoices-2019-05.json\n",
      "..\\capstone-w\\cs-train\\invoices-2019-06.json\n",
      "..\\capstone-w\\cs-train\\invoices-2019-07.json\n"
     ]
    }
   ],
   "source": [
    "# load training data into pandas dataFrame\n",
    "df = pd.DataFrame()\n",
    "datafiles = sorted(os.listdir(data_dir))\n",
    "datafiles\n",
    "for file in datafiles:\n",
    "    filename = os.path.join(data_dir, file)\n",
    "    file_df = pd.read_json(filename,\n",
    "                           dtype={'country': str, 'customer_id': str, 'invoice': str, \n",
    "                                  'price': str, 'stream_id': str, 'times_viewed': str, \n",
    "                                  'year': str, 'month': str, 'day': str})  \n",
    "    # correct inconsistent column names\n",
    "    cols = file_df.columns.to_list()\n",
    "    if \"StreamID\" in cols:\n",
    "        file_df.rename(columns={\"StreamID\": \"stream_id\"}, inplace=True)\n",
    "    if \"TimesViewed\" in cols:\n",
    "        file_df.rename(columns={\"TimesViewed\": \"times_viewed\"}, inplace=True)\n",
    "    if \"total_price\" in cols:\n",
    "        file_df.rename(columns={\"total_price\": \"price\"}, inplace=True)        \n",
    "    if sorted(file_df.columns.to_list()) != correct_cols:\n",
    "        print(\"column names are still different\")\n",
    "    print(filename)\n",
    "    df = df.append(file_df)"
   ]
  },
  {
   "cell_type": "code",
   "execution_count": 4,
   "metadata": {},
   "outputs": [],
   "source": [
    "# perform clean up and convert data types\n",
    "# as per hint in exercise - remove alpha characters from invoice column\n",
    "df[\"invoice\"] = df[\"invoice\"].str.replace(r\"[a-zA-Z]\", \"\")\n",
    "df[\"customer_id\"] = df[\"customer_id\"].str.replace(r\"[a-zA-Z]\", \"\")\n",
    "\n",
    "# convert columns customer_id, invoice, price, times_viewed, year, month, day to numeric data type\n",
    "df[[\"customer_id\", \"invoice\", \"price\", \"times_viewed\", \"year\", \n",
    "    \"month\", \"day\"]] = df[[\"customer_id\", \"invoice\", \"price\", \n",
    "                           \"times_viewed\", \"year\", \"month\", \n",
    "                           \"day\"]].apply(pd.to_numeric, errors=\"coerce\")"
   ]
  },
  {
   "cell_type": "markdown",
   "metadata": {},
   "source": [
    "## A closer look - EDA\n",
    "\n",
    "Let's analyze structure and contents of our newly created data frame and analyzed for obscure or common patterns"
   ]
  },
  {
   "cell_type": "code",
   "execution_count": 5,
   "metadata": {},
   "outputs": [
    {
     "data": {
      "text/html": [
       "<div>\n",
       "<style scoped>\n",
       "    .dataframe tbody tr th:only-of-type {\n",
       "        vertical-align: middle;\n",
       "    }\n",
       "\n",
       "    .dataframe tbody tr th {\n",
       "        vertical-align: top;\n",
       "    }\n",
       "\n",
       "    .dataframe thead th {\n",
       "        text-align: right;\n",
       "    }\n",
       "</style>\n",
       "<table border=\"1\" class=\"dataframe\">\n",
       "  <thead>\n",
       "    <tr style=\"text-align: right;\">\n",
       "      <th></th>\n",
       "      <th>country</th>\n",
       "      <th>customer_id</th>\n",
       "      <th>invoice</th>\n",
       "      <th>price</th>\n",
       "      <th>stream_id</th>\n",
       "      <th>times_viewed</th>\n",
       "      <th>year</th>\n",
       "      <th>month</th>\n",
       "      <th>day</th>\n",
       "    </tr>\n",
       "  </thead>\n",
       "  <tbody>\n",
       "    <tr>\n",
       "      <th>0</th>\n",
       "      <td>United Kingdom</td>\n",
       "      <td>13085.0</td>\n",
       "      <td>489434</td>\n",
       "      <td>6.95</td>\n",
       "      <td>85048</td>\n",
       "      <td>12</td>\n",
       "      <td>2017</td>\n",
       "      <td>11</td>\n",
       "      <td>28</td>\n",
       "    </tr>\n",
       "    <tr>\n",
       "      <th>1</th>\n",
       "      <td>United Kingdom</td>\n",
       "      <td>NaN</td>\n",
       "      <td>489597</td>\n",
       "      <td>8.65</td>\n",
       "      <td>22130</td>\n",
       "      <td>1</td>\n",
       "      <td>2017</td>\n",
       "      <td>11</td>\n",
       "      <td>28</td>\n",
       "    </tr>\n",
       "    <tr>\n",
       "      <th>2</th>\n",
       "      <td>United Kingdom</td>\n",
       "      <td>NaN</td>\n",
       "      <td>489597</td>\n",
       "      <td>1.70</td>\n",
       "      <td>22132</td>\n",
       "      <td>6</td>\n",
       "      <td>2017</td>\n",
       "      <td>11</td>\n",
       "      <td>28</td>\n",
       "    </tr>\n",
       "    <tr>\n",
       "      <th>3</th>\n",
       "      <td>United Kingdom</td>\n",
       "      <td>NaN</td>\n",
       "      <td>489597</td>\n",
       "      <td>1.70</td>\n",
       "      <td>22133</td>\n",
       "      <td>4</td>\n",
       "      <td>2017</td>\n",
       "      <td>11</td>\n",
       "      <td>28</td>\n",
       "    </tr>\n",
       "    <tr>\n",
       "      <th>4</th>\n",
       "      <td>United Kingdom</td>\n",
       "      <td>NaN</td>\n",
       "      <td>489597</td>\n",
       "      <td>0.87</td>\n",
       "      <td>22134</td>\n",
       "      <td>1</td>\n",
       "      <td>2017</td>\n",
       "      <td>11</td>\n",
       "      <td>28</td>\n",
       "    </tr>\n",
       "  </tbody>\n",
       "</table>\n",
       "</div>"
      ],
      "text/plain": [
       "          country  customer_id  invoice  price stream_id  times_viewed  year  \\\n",
       "0  United Kingdom      13085.0   489434   6.95     85048            12  2017   \n",
       "1  United Kingdom          NaN   489597   8.65     22130             1  2017   \n",
       "2  United Kingdom          NaN   489597   1.70     22132             6  2017   \n",
       "3  United Kingdom          NaN   489597   1.70     22133             4  2017   \n",
       "4  United Kingdom          NaN   489597   0.87     22134             1  2017   \n",
       "\n",
       "   month  day  \n",
       "0     11   28  \n",
       "1     11   28  \n",
       "2     11   28  \n",
       "3     11   28  \n",
       "4     11   28  "
      ]
     },
     "execution_count": 5,
     "metadata": {},
     "output_type": "execute_result"
    }
   ],
   "source": [
    "df.head()"
   ]
  },
  {
   "cell_type": "code",
   "execution_count": 6,
   "metadata": {},
   "outputs": [
    {
     "name": "stdout",
     "output_type": "stream",
     "text": [
      "<class 'pandas.core.frame.DataFrame'>\n",
      "Int64Index: 815011 entries, 0 to 42017\n",
      "Data columns (total 9 columns):\n",
      " #   Column        Non-Null Count   Dtype  \n",
      "---  ------        --------------   -----  \n",
      " 0   country       815011 non-null  object \n",
      " 1   customer_id   625249 non-null  float64\n",
      " 2   invoice       815011 non-null  int64  \n",
      " 3   price         815011 non-null  float64\n",
      " 4   stream_id     815011 non-null  object \n",
      " 5   times_viewed  815011 non-null  int64  \n",
      " 6   year          815011 non-null  int64  \n",
      " 7   month         815011 non-null  int64  \n",
      " 8   day           815011 non-null  int64  \n",
      "dtypes: float64(2), int64(5), object(2)\n",
      "memory usage: 62.2+ MB\n"
     ]
    }
   ],
   "source": [
    "# look at the stucture\n",
    "df.info()"
   ]
  },
  {
   "cell_type": "code",
   "execution_count": 7,
   "metadata": {},
   "outputs": [
    {
     "data": {
      "text/html": [
       "<div>\n",
       "<style scoped>\n",
       "    .dataframe tbody tr th:only-of-type {\n",
       "        vertical-align: middle;\n",
       "    }\n",
       "\n",
       "    .dataframe tbody tr th {\n",
       "        vertical-align: top;\n",
       "    }\n",
       "\n",
       "    .dataframe thead th {\n",
       "        text-align: right;\n",
       "    }\n",
       "</style>\n",
       "<table border=\"1\" class=\"dataframe\">\n",
       "  <thead>\n",
       "    <tr style=\"text-align: right;\">\n",
       "      <th></th>\n",
       "      <th>country</th>\n",
       "      <th>customer_id</th>\n",
       "      <th>invoice</th>\n",
       "      <th>price</th>\n",
       "      <th>stream_id</th>\n",
       "      <th>times_viewed</th>\n",
       "      <th>year</th>\n",
       "      <th>month</th>\n",
       "      <th>day</th>\n",
       "    </tr>\n",
       "  </thead>\n",
       "  <tbody>\n",
       "    <tr>\n",
       "      <th>count</th>\n",
       "      <td>815011</td>\n",
       "      <td>625249.000000</td>\n",
       "      <td>815011.000000</td>\n",
       "      <td>815011.000000</td>\n",
       "      <td>815011</td>\n",
       "      <td>815011.000000</td>\n",
       "      <td>815011.000000</td>\n",
       "      <td>815011.000000</td>\n",
       "      <td>815011.000000</td>\n",
       "    </tr>\n",
       "    <tr>\n",
       "      <th>unique</th>\n",
       "      <td>43</td>\n",
       "      <td>NaN</td>\n",
       "      <td>NaN</td>\n",
       "      <td>NaN</td>\n",
       "      <td>5007</td>\n",
       "      <td>NaN</td>\n",
       "      <td>NaN</td>\n",
       "      <td>NaN</td>\n",
       "      <td>NaN</td>\n",
       "    </tr>\n",
       "    <tr>\n",
       "      <th>top</th>\n",
       "      <td>United Kingdom</td>\n",
       "      <td>NaN</td>\n",
       "      <td>NaN</td>\n",
       "      <td>NaN</td>\n",
       "      <td>85123A</td>\n",
       "      <td>NaN</td>\n",
       "      <td>NaN</td>\n",
       "      <td>NaN</td>\n",
       "      <td>NaN</td>\n",
       "    </tr>\n",
       "    <tr>\n",
       "      <th>freq</th>\n",
       "      <td>751228</td>\n",
       "      <td>NaN</td>\n",
       "      <td>NaN</td>\n",
       "      <td>NaN</td>\n",
       "      <td>5017</td>\n",
       "      <td>NaN</td>\n",
       "      <td>NaN</td>\n",
       "      <td>NaN</td>\n",
       "      <td>NaN</td>\n",
       "    </tr>\n",
       "    <tr>\n",
       "      <th>mean</th>\n",
       "      <td>NaN</td>\n",
       "      <td>15333.415068</td>\n",
       "      <td>526773.221948</td>\n",
       "      <td>4.802631</td>\n",
       "      <td>NaN</td>\n",
       "      <td>5.231106</td>\n",
       "      <td>2018.247654</td>\n",
       "      <td>6.592718</td>\n",
       "      <td>15.064819</td>\n",
       "    </tr>\n",
       "    <tr>\n",
       "      <th>std</th>\n",
       "      <td>NaN</td>\n",
       "      <td>1698.360788</td>\n",
       "      <td>20734.819988</td>\n",
       "      <td>135.058707</td>\n",
       "      <td>NaN</td>\n",
       "      <td>5.109982</td>\n",
       "      <td>0.545261</td>\n",
       "      <td>3.598781</td>\n",
       "      <td>8.788845</td>\n",
       "    </tr>\n",
       "    <tr>\n",
       "      <th>min</th>\n",
       "      <td>NaN</td>\n",
       "      <td>12346.000000</td>\n",
       "      <td>489434.000000</td>\n",
       "      <td>-53594.360000</td>\n",
       "      <td>NaN</td>\n",
       "      <td>0.000000</td>\n",
       "      <td>2017.000000</td>\n",
       "      <td>1.000000</td>\n",
       "      <td>1.000000</td>\n",
       "    </tr>\n",
       "    <tr>\n",
       "      <th>25%</th>\n",
       "      <td>NaN</td>\n",
       "      <td>13956.000000</td>\n",
       "      <td>509031.000000</td>\n",
       "      <td>1.250000</td>\n",
       "      <td>NaN</td>\n",
       "      <td>1.000000</td>\n",
       "      <td>2018.000000</td>\n",
       "      <td>3.000000</td>\n",
       "      <td>7.000000</td>\n",
       "    </tr>\n",
       "    <tr>\n",
       "      <th>50%</th>\n",
       "      <td>NaN</td>\n",
       "      <td>15279.000000</td>\n",
       "      <td>528383.000000</td>\n",
       "      <td>2.100000</td>\n",
       "      <td>NaN</td>\n",
       "      <td>3.000000</td>\n",
       "      <td>2018.000000</td>\n",
       "      <td>6.000000</td>\n",
       "      <td>15.000000</td>\n",
       "    </tr>\n",
       "    <tr>\n",
       "      <th>75%</th>\n",
       "      <td>NaN</td>\n",
       "      <td>16813.000000</td>\n",
       "      <td>543527.000000</td>\n",
       "      <td>4.210000</td>\n",
       "      <td>NaN</td>\n",
       "      <td>8.000000</td>\n",
       "      <td>2019.000000</td>\n",
       "      <td>10.000000</td>\n",
       "      <td>23.000000</td>\n",
       "    </tr>\n",
       "    <tr>\n",
       "      <th>max</th>\n",
       "      <td>NaN</td>\n",
       "      <td>18287.000000</td>\n",
       "      <td>562271.000000</td>\n",
       "      <td>38970.000000</td>\n",
       "      <td>NaN</td>\n",
       "      <td>24.000000</td>\n",
       "      <td>2019.000000</td>\n",
       "      <td>12.000000</td>\n",
       "      <td>31.000000</td>\n",
       "    </tr>\n",
       "  </tbody>\n",
       "</table>\n",
       "</div>"
      ],
      "text/plain": [
       "               country    customer_id        invoice          price stream_id  \\\n",
       "count           815011  625249.000000  815011.000000  815011.000000    815011   \n",
       "unique              43            NaN            NaN            NaN      5007   \n",
       "top     United Kingdom            NaN            NaN            NaN    85123A   \n",
       "freq            751228            NaN            NaN            NaN      5017   \n",
       "mean               NaN   15333.415068  526773.221948       4.802631       NaN   \n",
       "std                NaN    1698.360788   20734.819988     135.058707       NaN   \n",
       "min                NaN   12346.000000  489434.000000  -53594.360000       NaN   \n",
       "25%                NaN   13956.000000  509031.000000       1.250000       NaN   \n",
       "50%                NaN   15279.000000  528383.000000       2.100000       NaN   \n",
       "75%                NaN   16813.000000  543527.000000       4.210000       NaN   \n",
       "max                NaN   18287.000000  562271.000000   38970.000000       NaN   \n",
       "\n",
       "         times_viewed           year          month            day  \n",
       "count   815011.000000  815011.000000  815011.000000  815011.000000  \n",
       "unique            NaN            NaN            NaN            NaN  \n",
       "top               NaN            NaN            NaN            NaN  \n",
       "freq              NaN            NaN            NaN            NaN  \n",
       "mean         5.231106    2018.247654       6.592718      15.064819  \n",
       "std          5.109982       0.545261       3.598781       8.788845  \n",
       "min          0.000000    2017.000000       1.000000       1.000000  \n",
       "25%          1.000000    2018.000000       3.000000       7.000000  \n",
       "50%          3.000000    2018.000000       6.000000      15.000000  \n",
       "75%          8.000000    2019.000000      10.000000      23.000000  \n",
       "max         24.000000    2019.000000      12.000000      31.000000  "
      ]
     },
     "execution_count": 7,
     "metadata": {},
     "output_type": "execute_result"
    }
   ],
   "source": [
    "# have an initial look at the resulting dataframe stats\n",
    "df.describe(include='all')"
   ]
  },
  {
   "cell_type": "markdown",
   "metadata": {},
   "source": [
    "The prices column contains both very large and small values - is it some sort of an error? How many records are affected?"
   ]
  },
  {
   "cell_type": "code",
   "execution_count": 8,
   "metadata": {},
   "outputs": [
    {
     "data": {
      "text/html": [
       "<div>\n",
       "<style scoped>\n",
       "    .dataframe tbody tr th:only-of-type {\n",
       "        vertical-align: middle;\n",
       "    }\n",
       "\n",
       "    .dataframe tbody tr th {\n",
       "        vertical-align: top;\n",
       "    }\n",
       "\n",
       "    .dataframe thead th {\n",
       "        text-align: right;\n",
       "    }\n",
       "</style>\n",
       "<table border=\"1\" class=\"dataframe\">\n",
       "  <thead>\n",
       "    <tr style=\"text-align: right;\">\n",
       "      <th></th>\n",
       "      <th>country</th>\n",
       "      <th>customer_id</th>\n",
       "      <th>invoice</th>\n",
       "      <th>price</th>\n",
       "      <th>stream_id</th>\n",
       "      <th>times_viewed</th>\n",
       "      <th>year</th>\n",
       "      <th>month</th>\n",
       "      <th>day</th>\n",
       "    </tr>\n",
       "  </thead>\n",
       "  <tbody>\n",
       "    <tr>\n",
       "      <th>29648</th>\n",
       "      <td>United Kingdom</td>\n",
       "      <td>NaN</td>\n",
       "      <td>506401</td>\n",
       "      <td>-53594.36</td>\n",
       "      <td>B</td>\n",
       "      <td>1</td>\n",
       "      <td>2018</td>\n",
       "      <td>4</td>\n",
       "      <td>26</td>\n",
       "    </tr>\n",
       "    <tr>\n",
       "      <th>16895</th>\n",
       "      <td>United Kingdom</td>\n",
       "      <td>NaN</td>\n",
       "      <td>516228</td>\n",
       "      <td>-44031.79</td>\n",
       "      <td>B</td>\n",
       "      <td>1</td>\n",
       "      <td>2018</td>\n",
       "      <td>7</td>\n",
       "      <td>16</td>\n",
       "    </tr>\n",
       "    <tr>\n",
       "      <th>34579</th>\n",
       "      <td>United Kingdom</td>\n",
       "      <td>NaN</td>\n",
       "      <td>528059</td>\n",
       "      <td>-38925.87</td>\n",
       "      <td>B</td>\n",
       "      <td>1</td>\n",
       "      <td>2018</td>\n",
       "      <td>10</td>\n",
       "      <td>17</td>\n",
       "    </tr>\n",
       "  </tbody>\n",
       "</table>\n",
       "</div>"
      ],
      "text/plain": [
       "              country  customer_id  invoice     price stream_id  times_viewed  \\\n",
       "29648  United Kingdom          NaN   506401 -53594.36         B             1   \n",
       "16895  United Kingdom          NaN   516228 -44031.79         B             1   \n",
       "34579  United Kingdom          NaN   528059 -38925.87         B             1   \n",
       "\n",
       "       year  month  day  \n",
       "29648  2018      4   26  \n",
       "16895  2018      7   16  \n",
       "34579  2018     10   17  "
      ]
     },
     "execution_count": 8,
     "metadata": {},
     "output_type": "execute_result"
    }
   ],
   "source": [
    "# have a look at negative prices\n",
    "df[df[\"price\"] < 0]"
   ]
  },
  {
   "cell_type": "markdown",
   "metadata": {},
   "source": [
    "There are three extreme negative instances - will eliminate these records negative values from further consideration and training."
   ]
  },
  {
   "cell_type": "code",
   "execution_count": 9,
   "metadata": {
    "scrolled": true
   },
   "outputs": [
    {
     "data": {
      "text/html": [
       "<div>\n",
       "<style scoped>\n",
       "    .dataframe tbody tr th:only-of-type {\n",
       "        vertical-align: middle;\n",
       "    }\n",
       "\n",
       "    .dataframe tbody tr th {\n",
       "        vertical-align: top;\n",
       "    }\n",
       "\n",
       "    .dataframe thead th {\n",
       "        text-align: right;\n",
       "    }\n",
       "</style>\n",
       "<table border=\"1\" class=\"dataframe\">\n",
       "  <thead>\n",
       "    <tr style=\"text-align: right;\">\n",
       "      <th></th>\n",
       "      <th>country</th>\n",
       "      <th>customer_id</th>\n",
       "      <th>invoice</th>\n",
       "      <th>price</th>\n",
       "      <th>stream_id</th>\n",
       "      <th>times_viewed</th>\n",
       "      <th>year</th>\n",
       "      <th>month</th>\n",
       "      <th>day</th>\n",
       "    </tr>\n",
       "  </thead>\n",
       "  <tbody>\n",
       "    <tr>\n",
       "      <th>25298</th>\n",
       "      <td>United Kingdom</td>\n",
       "      <td>NaN</td>\n",
       "      <td>495798</td>\n",
       "      <td>5117.03</td>\n",
       "      <td>ADJUST</td>\n",
       "      <td>1</td>\n",
       "      <td>2018</td>\n",
       "      <td>1</td>\n",
       "      <td>23</td>\n",
       "    </tr>\n",
       "    <tr>\n",
       "      <th>29610</th>\n",
       "      <td>United Kingdom</td>\n",
       "      <td>17949.0</td>\n",
       "      <td>496116</td>\n",
       "      <td>8985.60</td>\n",
       "      <td>M</td>\n",
       "      <td>0</td>\n",
       "      <td>2018</td>\n",
       "      <td>1</td>\n",
       "      <td>26</td>\n",
       "    </tr>\n",
       "    <tr>\n",
       "      <th>29611</th>\n",
       "      <td>United Kingdom</td>\n",
       "      <td>17949.0</td>\n",
       "      <td>496115</td>\n",
       "      <td>8985.60</td>\n",
       "      <td>M</td>\n",
       "      <td>1</td>\n",
       "      <td>2018</td>\n",
       "      <td>1</td>\n",
       "      <td>26</td>\n",
       "    </tr>\n",
       "    <tr>\n",
       "      <th>20035</th>\n",
       "      <td>Norway</td>\n",
       "      <td>15760.0</td>\n",
       "      <td>501766</td>\n",
       "      <td>6958.17</td>\n",
       "      <td>M</td>\n",
       "      <td>1</td>\n",
       "      <td>2018</td>\n",
       "      <td>3</td>\n",
       "      <td>16</td>\n",
       "    </tr>\n",
       "    <tr>\n",
       "      <th>20036</th>\n",
       "      <td>Norway</td>\n",
       "      <td>15760.0</td>\n",
       "      <td>501751</td>\n",
       "      <td>6958.17</td>\n",
       "      <td>M</td>\n",
       "      <td>3</td>\n",
       "      <td>2018</td>\n",
       "      <td>3</td>\n",
       "      <td>16</td>\n",
       "    </tr>\n",
       "    <tr>\n",
       "      <th>...</th>\n",
       "      <td>...</td>\n",
       "      <td>...</td>\n",
       "      <td>...</td>\n",
       "      <td>...</td>\n",
       "      <td>...</td>\n",
       "      <td>...</td>\n",
       "      <td>...</td>\n",
       "      <td>...</td>\n",
       "      <td>...</td>\n",
       "    </tr>\n",
       "    <tr>\n",
       "      <th>21242</th>\n",
       "      <td>United Kingdom</td>\n",
       "      <td>NaN</td>\n",
       "      <td>560373</td>\n",
       "      <td>4287.63</td>\n",
       "      <td>M</td>\n",
       "      <td>1</td>\n",
       "      <td>2019</td>\n",
       "      <td>7</td>\n",
       "      <td>15</td>\n",
       "    </tr>\n",
       "    <tr>\n",
       "      <th>21243</th>\n",
       "      <td>United Kingdom</td>\n",
       "      <td>17448.0</td>\n",
       "      <td>560372</td>\n",
       "      <td>4287.63</td>\n",
       "      <td>M</td>\n",
       "      <td>3</td>\n",
       "      <td>2019</td>\n",
       "      <td>7</td>\n",
       "      <td>15</td>\n",
       "    </tr>\n",
       "    <tr>\n",
       "      <th>24838</th>\n",
       "      <td>United Kingdom</td>\n",
       "      <td>18102.0</td>\n",
       "      <td>560647</td>\n",
       "      <td>3060.60</td>\n",
       "      <td>M</td>\n",
       "      <td>3</td>\n",
       "      <td>2019</td>\n",
       "      <td>7</td>\n",
       "      <td>17</td>\n",
       "    </tr>\n",
       "    <tr>\n",
       "      <th>40163</th>\n",
       "      <td>United Kingdom</td>\n",
       "      <td>NaN</td>\n",
       "      <td>562086</td>\n",
       "      <td>6721.37</td>\n",
       "      <td>AMAZONFEE</td>\n",
       "      <td>3</td>\n",
       "      <td>2019</td>\n",
       "      <td>7</td>\n",
       "      <td>30</td>\n",
       "    </tr>\n",
       "    <tr>\n",
       "      <th>40383</th>\n",
       "      <td>United Kingdom</td>\n",
       "      <td>NaN</td>\n",
       "      <td>562062</td>\n",
       "      <td>4575.64</td>\n",
       "      <td>AMAZONFEE</td>\n",
       "      <td>4</td>\n",
       "      <td>2019</td>\n",
       "      <td>7</td>\n",
       "      <td>30</td>\n",
       "    </tr>\n",
       "  </tbody>\n",
       "</table>\n",
       "<p>109 rows × 9 columns</p>\n",
       "</div>"
      ],
      "text/plain": [
       "              country  customer_id  invoice    price  stream_id  times_viewed  \\\n",
       "25298  United Kingdom          NaN   495798  5117.03     ADJUST             1   \n",
       "29610  United Kingdom      17949.0   496116  8985.60          M             0   \n",
       "29611  United Kingdom      17949.0   496115  8985.60          M             1   \n",
       "20035          Norway      15760.0   501766  6958.17          M             1   \n",
       "20036          Norway      15760.0   501751  6958.17          M             3   \n",
       "...               ...          ...      ...      ...        ...           ...   \n",
       "21242  United Kingdom          NaN   560373  4287.63          M             1   \n",
       "21243  United Kingdom      17448.0   560372  4287.63          M             3   \n",
       "24838  United Kingdom      18102.0   560647  3060.60          M             3   \n",
       "40163  United Kingdom          NaN   562086  6721.37  AMAZONFEE             3   \n",
       "40383  United Kingdom          NaN   562062  4575.64  AMAZONFEE             4   \n",
       "\n",
       "       year  month  day  \n",
       "25298  2018      1   23  \n",
       "29610  2018      1   26  \n",
       "29611  2018      1   26  \n",
       "20035  2018      3   16  \n",
       "20036  2018      3   16  \n",
       "...     ...    ...  ...  \n",
       "21242  2019      7   15  \n",
       "21243  2019      7   15  \n",
       "24838  2019      7   17  \n",
       "40163  2019      7   30  \n",
       "40383  2019      7   30  \n",
       "\n",
       "[109 rows x 9 columns]"
      ]
     },
     "execution_count": 9,
     "metadata": {},
     "output_type": "execute_result"
    }
   ],
   "source": [
    "# have a look to the other side - large prices\n",
    "df[df[\"price\"] > 2000]\n",
    "# this does not look so erratic - will keep these records"
   ]
  },
  {
   "cell_type": "code",
   "execution_count": 10,
   "metadata": {},
   "outputs": [],
   "source": [
    "# eliminate the three negative records from price\n",
    "df = df[df[\"price\"] >= 0]"
   ]
  },
  {
   "cell_type": "code",
   "execution_count": 11,
   "metadata": {
    "scrolled": false
   },
   "outputs": [
    {
     "data": {
      "image/png": "[encoded data removed]",
      "text/plain": [
       "<Figure size 432x288 with 1 Axes>"
      ]
     },
     "metadata": {
      "needs_background": "light"
     },
     "output_type": "display_data"
    }
   ],
   "source": [
    "#now we have only positive price records left - let's have a look at their distribution\n",
    "plt.hist(df.loc[(df[\"price\"] >= 0) & (df[\"price\"] < 100), \"price\"], bins = 50)\n",
    "plt.show()"
   ]
  },
  {
   "cell_type": "markdown",
   "metadata": {},
   "source": [
    "Most of the prices are less than 10, only very few records beyond 30, but there are a significant number of these records."
   ]
  },
  {
   "cell_type": "code",
   "execution_count": 12,
   "metadata": {
    "scrolled": false
   },
   "outputs": [
    {
     "data": {
      "text/plain": [
       "43"
      ]
     },
     "execution_count": 12,
     "metadata": {},
     "output_type": "execute_result"
    }
   ],
   "source": [
    "# look at countries\n",
    "df[\"country\"].nunique()\n",
    "#df[\"country\"].unique()"
   ]
  },
  {
   "cell_type": "markdown",
   "metadata": {},
   "source": [
    "There are 43 viewers from countries. (production later: 32)"
   ]
  },
  {
   "cell_type": "code",
   "execution_count": 13,
   "metadata": {
    "scrolled": true
   },
   "outputs": [
    {
     "data": {
      "text/plain": [
       "<AxesSubplot:>"
      ]
     },
     "execution_count": 13,
     "metadata": {},
     "output_type": "execute_result"
    },
    {
     "data": {
      "image/png": "[encoded data removed]",
      "text/plain": [
       "<Figure size 432x288 with 1 Axes>"
      ]
     },
     "metadata": {
      "needs_background": "light"
     },
     "output_type": "display_data"
    }
   ],
   "source": [
    "df[\"country\"].value_counts().plot.bar()"
   ]
  },
  {
   "cell_type": "markdown",
   "metadata": {
    "scrolled": true
   },
   "source": [
    "The majority of records comes from UK, EIRE and Germany with fourty more countries as the long tail."
   ]
  },
  {
   "cell_type": "code",
   "execution_count": 14,
   "metadata": {
    "scrolled": true
   },
   "outputs": [
    {
     "data": {
      "image/png": "[encoded data removed]",
      "text/plain": [
       "<Figure size 432x288 with 1 Axes>"
      ]
     },
     "metadata": {
      "needs_background": "light"
     },
     "output_type": "display_data"
    }
   ],
   "source": [
    "plt.hist(df[\"times_viewed\"], bins = 20)\n",
    "plt.show()"
   ]
  },
  {
   "cell_type": "markdown",
   "metadata": {},
   "source": [
    "most of the records are viewerd low numbers"
   ]
  },
  {
   "cell_type": "code",
   "execution_count": 15,
   "metadata": {
    "scrolled": true
   },
   "outputs": [
    {
     "name": "stdout",
     "output_type": "stream",
     "text": [
      "country\n",
      "United Kingdom          3658065\n",
      "EIRE                     107069\n",
      "Germany                   49271\n",
      "France                    40565\n",
      "Norway                    38494\n",
      "Spain                     16040\n",
      "Hong Kong                 14452\n",
      "Portugal                  13528\n",
      "Singapore                 13175\n",
      "Netherlands               12322\n",
      "Belgium                   11190\n",
      "Switzerland                9284\n",
      "Sweden                     7876\n",
      "Channel Islands            7610\n",
      "Australia                  6872\n",
      "Malta                      6085\n",
      "Italy                      5910\n",
      "Cyprus                     4976\n",
      "Austria                    3390\n",
      "Finland                    3364\n",
      "RSA                        3105\n",
      "Unspecified                3045\n",
      "Greece                     2437\n",
      "United Arab Emirates       2400\n",
      "Denmark                    1818\n",
      "Poland                     1510\n",
      "USA                        1185\n",
      "Japan                      1083\n",
      "Canada                     1053\n",
      "Iceland                     509\n",
      "Lithuania                   494\n",
      "Israel                      457\n",
      "Bahrain                     439\n",
      "Lebanon                     358\n",
      "European Community          294\n",
      "Brazil                      256\n",
      "Thailand                    227\n",
      "Korea                       150\n",
      "West Indies                 122\n",
      "Nigeria                     109\n",
      "Bermuda                      84\n",
      "Czech Republic               31\n",
      "Saudi Arabia                 24\n",
      "Name: price, dtype: int32 %d\n"
     ]
    }
   ],
   "source": [
    "# calculate revenue by country as sum of price\n",
    "\n",
    "pricesum = df.groupby([\"country\"]).sum().astype(int)\n",
    "print(pricesum[\"price\"].sort_values(ascending=False), \"%d\")\n"
   ]
  },
  {
   "cell_type": "markdown",
   "metadata": {},
   "source": [
    "as expected revenue distribution per country similar to number of records again with UK, EIRE, France and Germany providing highest numbers"
   ]
  },
  {
   "cell_type": "code",
   "execution_count": 16,
   "metadata": {},
   "outputs": [
    {
     "data": {
      "image/png": "[encoded data removed]",
      "text/plain": [
       "<Figure size 432x288 with 1 Axes>"
      ]
     },
     "metadata": {
      "needs_background": "light"
     },
     "output_type": "display_data"
    }
   ],
   "source": [
    "plt.hist(df[\"month\"], bins=range(1,14))\n",
    "plt.show()"
   ]
  },
  {
   "cell_type": "markdown",
   "metadata": {},
   "source": [
    "Again, this makes sense, as we have two years of data for all but months 8, 9, and 10, so we would expect those to have lower counts."
   ]
  },
  {
   "cell_type": "code",
   "execution_count": 17,
   "metadata": {
    "scrolled": true
   },
   "outputs": [
    {
     "data": {
      "image/png": "[encoded data removed]",
      "text/plain": [
       "<Figure size 432x288 with 1 Axes>"
      ]
     },
     "metadata": {
      "needs_background": "light"
     },
     "output_type": "display_data"
    }
   ],
   "source": [
    "plt.hist(df[\"day\"], bins=range(1,33))\n",
    "plt.show()"
   ]
  },
  {
   "cell_type": "markdown",
   "metadata": {},
   "source": [
    "fairly even distribution - last day of the month is lower as not all months have same length\n",
    "high number of records averages things out"
   ]
  },
  {
   "cell_type": "code",
   "execution_count": 18,
   "metadata": {},
   "outputs": [
    {
     "data": {
      "text/html": [
       "<div>\n",
       "<style scoped>\n",
       "    .dataframe tbody tr th:only-of-type {\n",
       "        vertical-align: middle;\n",
       "    }\n",
       "\n",
       "    .dataframe tbody tr th {\n",
       "        vertical-align: top;\n",
       "    }\n",
       "\n",
       "    .dataframe thead th {\n",
       "        text-align: right;\n",
       "    }\n",
       "</style>\n",
       "<table border=\"1\" class=\"dataframe\">\n",
       "  <thead>\n",
       "    <tr style=\"text-align: right;\">\n",
       "      <th></th>\n",
       "      <th>country</th>\n",
       "      <th>customer_id</th>\n",
       "      <th>invoice</th>\n",
       "      <th>price</th>\n",
       "      <th>stream_id</th>\n",
       "      <th>times_viewed</th>\n",
       "      <th>year</th>\n",
       "      <th>month</th>\n",
       "      <th>day</th>\n",
       "      <th>date</th>\n",
       "      <th>day_of_week</th>\n",
       "    </tr>\n",
       "  </thead>\n",
       "  <tbody>\n",
       "    <tr>\n",
       "      <th>0</th>\n",
       "      <td>United Kingdom</td>\n",
       "      <td>13085.0</td>\n",
       "      <td>489434</td>\n",
       "      <td>6.95</td>\n",
       "      <td>85048</td>\n",
       "      <td>12</td>\n",
       "      <td>2017</td>\n",
       "      <td>11</td>\n",
       "      <td>28</td>\n",
       "      <td>2017-11-28</td>\n",
       "      <td>Tuesday</td>\n",
       "    </tr>\n",
       "    <tr>\n",
       "      <th>1</th>\n",
       "      <td>United Kingdom</td>\n",
       "      <td>NaN</td>\n",
       "      <td>489597</td>\n",
       "      <td>8.65</td>\n",
       "      <td>22130</td>\n",
       "      <td>1</td>\n",
       "      <td>2017</td>\n",
       "      <td>11</td>\n",
       "      <td>28</td>\n",
       "      <td>2017-11-28</td>\n",
       "      <td>Tuesday</td>\n",
       "    </tr>\n",
       "    <tr>\n",
       "      <th>2</th>\n",
       "      <td>United Kingdom</td>\n",
       "      <td>NaN</td>\n",
       "      <td>489597</td>\n",
       "      <td>1.70</td>\n",
       "      <td>22132</td>\n",
       "      <td>6</td>\n",
       "      <td>2017</td>\n",
       "      <td>11</td>\n",
       "      <td>28</td>\n",
       "      <td>2017-11-28</td>\n",
       "      <td>Tuesday</td>\n",
       "    </tr>\n",
       "    <tr>\n",
       "      <th>3</th>\n",
       "      <td>United Kingdom</td>\n",
       "      <td>NaN</td>\n",
       "      <td>489597</td>\n",
       "      <td>1.70</td>\n",
       "      <td>22133</td>\n",
       "      <td>4</td>\n",
       "      <td>2017</td>\n",
       "      <td>11</td>\n",
       "      <td>28</td>\n",
       "      <td>2017-11-28</td>\n",
       "      <td>Tuesday</td>\n",
       "    </tr>\n",
       "    <tr>\n",
       "      <th>4</th>\n",
       "      <td>United Kingdom</td>\n",
       "      <td>NaN</td>\n",
       "      <td>489597</td>\n",
       "      <td>0.87</td>\n",
       "      <td>22134</td>\n",
       "      <td>1</td>\n",
       "      <td>2017</td>\n",
       "      <td>11</td>\n",
       "      <td>28</td>\n",
       "      <td>2017-11-28</td>\n",
       "      <td>Tuesday</td>\n",
       "    </tr>\n",
       "  </tbody>\n",
       "</table>\n",
       "</div>"
      ],
      "text/plain": [
       "          country  customer_id  invoice  price stream_id  times_viewed  year  \\\n",
       "0  United Kingdom      13085.0   489434   6.95     85048            12  2017   \n",
       "1  United Kingdom          NaN   489597   8.65     22130             1  2017   \n",
       "2  United Kingdom          NaN   489597   1.70     22132             6  2017   \n",
       "3  United Kingdom          NaN   489597   1.70     22133             4  2017   \n",
       "4  United Kingdom          NaN   489597   0.87     22134             1  2017   \n",
       "\n",
       "   month  day       date day_of_week  \n",
       "0     11   28 2017-11-28     Tuesday  \n",
       "1     11   28 2017-11-28     Tuesday  \n",
       "2     11   28 2017-11-28     Tuesday  \n",
       "3     11   28 2017-11-28     Tuesday  \n",
       "4     11   28 2017-11-28     Tuesday  "
      ]
     },
     "execution_count": 18,
     "metadata": {},
     "output_type": "execute_result"
    }
   ],
   "source": [
    "# create a datetime field with the date\n",
    "df[\"date\"] = pd.to_datetime(df[\"year\"]*10000 + df[\"month\"]*100 + df[\"day\"], format='%Y%m%d')\n",
    "df['day_of_week'] = df[\"date\"].dt.day_name()\n",
    "df.head()"
   ]
  },
  {
   "cell_type": "code",
   "execution_count": 19,
   "metadata": {},
   "outputs": [
    {
     "data": {
      "image/png": "[encoded data removed]",
      "text/plain": [
       "<Figure size 432x288 with 1 Axes>"
      ]
     },
     "metadata": {
      "needs_background": "light"
     },
     "output_type": "display_data"
    }
   ],
   "source": [
    "plt.hist(df[\"day_of_week\"])\n",
    "plt.show()"
   ]
  },
  {
   "cell_type": "markdown",
   "metadata": {},
   "source": [
    "Interestingly the numbers for Saturday are unexpectedly low whilst for all other days the numbers are in the same range"
   ]
  },
  {
   "cell_type": "code",
   "execution_count": 20,
   "metadata": {},
   "outputs": [
    {
     "name": "stdout",
     "output_type": "stream",
     "text": [
      "Thursday     154448\n",
      "Tuesday      150976\n",
      "Monday       146967\n",
      "Wednesday    141391\n",
      "Friday       114552\n",
      "Sunday       106272\n",
      "Saturday        402\n",
      "Name: day_of_week, dtype: int64\n"
     ]
    }
   ],
   "source": [
    "print (df[\"day_of_week\"].value_counts())"
   ]
  },
  {
   "cell_type": "code",
   "execution_count": null,
   "metadata": {},
   "outputs": [],
   "source": []
  }
 ],
 "metadata": {
  "kernelspec": {
   "display_name": "Python 3",
   "language": "python",
   "name": "python3"
  },
  "language_info": {
   "codemirror_mode": {
    "name": "ipython",
    "version": 3
   },
   "file_extension": ".py",
   "mimetype": "text/x-python",
   "name": "python",
   "nbconvert_exporter": "python",
   "pygments_lexer": "ipython3",
   "version": "3.8.5"
  }
 },
 "nbformat": 4,
 "nbformat_minor": 4
}
